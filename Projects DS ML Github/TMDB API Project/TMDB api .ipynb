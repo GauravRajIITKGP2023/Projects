{
 "cells": [
  {
   "cell_type": "markdown",
   "id": "8f80dd73",
   "metadata": {},
   "source": [
    "Find the 'id' of the movie \"Andhadhun\" using TMDb API."
   ]
  },
  {
   "cell_type": "code",
   "execution_count": null,
   "id": "bdefe837",
   "metadata": {},
   "outputs": [],
   "source": [
    "import requests\n",
    "api_key = \"e226f4a5f5bace766952aa0d17182959\" \n",
    "api_link = \"https://api.themoviedb.org/3\" \n",
    "params = {'query':\"Andhadhun\", 'api_key':api_key}\n",
    "header = {'Accept': 'application/json'} \n",
    "response = requests.get(api_link + \"/search/movie\", headers = header, params=params) \n",
    "data = response.json()\n",
    "results = data.get('results') \n",
    "for result in results: \n",
    "    if result.get('title') == 'Andhadhun': \n",
    "        print(result.get('id'))"
   ]
  },
  {
   "cell_type": "markdown",
   "id": "bc76b208",
   "metadata": {},
   "source": [
    "Fetch the company id company 'Marvel Studios' using TMDb. Print the id."
   ]
  },
  {
   "cell_type": "code",
   "execution_count": null,
   "id": "86448991",
   "metadata": {},
   "outputs": [],
   "source": [
    "import requests\n",
    "api_key = \"e226f4a5f5bace766952aa0d17182959\" \n",
    "api_link = \"https://api.themoviedb.org/3\" \n",
    "params = {'query':\"Marvel Studios\", 'api_key':api_key}\n",
    "header = {'Accept': 'application/json'} \n",
    "response = requests.get(api_link + \"/search/company\", headers = header, params=params) \n",
    "data = response.json()\n",
    "results = data.get('results') \n",
    "for result in results: \n",
    "    if result.get('name') == 'Marvel Studios': \n",
    "        print(result.get('id'))\n",
    "        "
   ]
  },
  {
   "cell_type": "markdown",
   "id": "9df8cb2b",
   "metadata": {},
   "source": [
    "Fetch the top rated english movies in the US region using the TMDb API. From the result, print the first 10 movies which have original language as english. Also print their genres."
   ]
  },
  {
   "cell_type": "code",
   "execution_count": null,
   "id": "2186347c",
   "metadata": {},
   "outputs": [],
   "source": [
    "import requests\n",
    "api_key = \"e226f4a5f5bace766952aa0d17182959\" \n",
    "api_link = \"https://api.themoviedb.org/3\" #/movie/top_rated/apikey = \n",
    "header = {'Accept': 'application/json'} \n",
    "params = {'api_key':api_key, 'region':'US'} \n",
    "response = requests.get(api_link + \"/movie/top_rated\", headers = header, params = params) \n",
    "\n",
    "\n",
    "data = response.json() \n",
    "results = data.get('results') \n",
    "title_array = [] \n",
    "genre_id_array = [] \n",
    "for result in results: \n",
    "    if result.get('original_language') == 'en': \n",
    "        title_array.append(result.get('title')) \n",
    "        genre_id_array.append(result.get('genre_ids')) \n",
    "        \n",
    "# To get the genre name corresponding to genre_id \n",
    "response2 = requests.get(api_link + \"/genre/movie/list\", headers = header, params = params) \n",
    "data2 = response2.json() \n",
    "genres = data2.get('genres') \n",
    "mapping = {} \n",
    "for genre in genres: \n",
    "    mapping[genre.get('id')] = genre.get('name') \n",
    "    \n",
    "for i in range(10): \n",
    "    print(title_array[i], \"-\", end=\" \") \n",
    "    for id in genre_id_array[i]: \n",
    "        print(mapping.get(id), end = \", \") \n",
    "    print()\n",
    "    "
   ]
  },
  {
   "cell_type": "markdown",
   "id": "79ac63b3",
   "metadata": {},
   "source": [
    "Find the name and birthplace of the present most popular person according to TMDb API."
   ]
  },
  {
   "cell_type": "code",
   "execution_count": null,
   "id": "9c2de3f0",
   "metadata": {},
   "outputs": [],
   "source": [
    "import requests\n",
    "api_key = \"e226f4a5f5bace766952aa0d17182959\" \n",
    "api_link = \"https://api.themoviedb.org/3\" #/movie/top_rated/apikey = \n",
    "header = {'Accept': 'application/json'} \n",
    "params = {'api_key':api_key} \n",
    "response = requests.get(api_link + \"/person/popular\", headers = header, params = params) \n",
    "data=response.json()\n",
    "id=data.get('results')[0].get('id')\n",
    "print(id)\n",
    "popular=data.get('results')[0].get('name')\n",
    "a=requests.get(api_link + \"/person/\" + str(id), headers = header, params = params)\n",
    "b=a.json()\n",
    "print(popular,\"-\",b.get('place_of_birth'))\n"
   ]
  },
  {
   "cell_type": "markdown",
   "id": "7b238de1",
   "metadata": {},
   "source": [
    "Fetch the name and air date of S06E05 of the TV Show 'The Big Bang Theory' from TMDb API."
   ]
  },
  {
   "cell_type": "code",
   "execution_count": null,
   "id": "b8eb077f",
   "metadata": {},
   "outputs": [],
   "source": [
    "import requests \n",
    "api_key = \"e226f4a5f5bace766952aa0d17182959\" \n",
    "api_link = \"https://api.themoviedb.org/3\" \n",
    "params = {'query':\"The Big Bang Theory\" , 'api_key':api_key} \n",
    "header = {'Accept': 'application/json'} \n",
    "response = requests.get(api_link + \"/search/tv/\", headers = header, params = params) \n",
    "data = response.json() \n",
    "results = data.get('results') \n",
    "\n",
    "for i in results: \n",
    "    if i.get('name') == 'The Big Bang Theory': \n",
    "        id = i.get('id')\n",
    "\n",
    "params2 = {'api_key':api_key} \n",
    "response2 = requests.get(api_link + \"/tv/\"+str(id) + '/season/6/episode/5', headers = header, params = params2)\n",
    "data2 = response2.json()\n",
    "print(data2.get('name'),'-',data2.get('air_date'))"
   ]
  },
  {
   "cell_type": "markdown",
   "id": "a93a83cf",
   "metadata": {},
   "source": [
    "Print the names of all the TV shows to be aired today whose original language is english."
   ]
  },
  {
   "cell_type": "code",
   "execution_count": null,
   "id": "6fc96ef0",
   "metadata": {},
   "outputs": [],
   "source": [
    "import requests\n",
    "api_key = \"e226f4a5f5bace766952aa0d17182959\" \n",
    "api_link = \"https://api.themoviedb.org/3\" \n",
    "params = {'language':'en','api_key':api_key} \n",
    "header = {'Accept': 'application/json'} \n",
    "response = requests.get(api_link + \"/tv/airing_today/\", headers = header, params = params) \n",
    "data = response.json() \n",
    "page_number = data.get(\"total_pages\") \n",
    "for i in range(1,page_number + 1):\n",
    "    params = {'api_key':api_key,'language':'en','page':i}\n",
    "    response = requests.get(api_link + \"/tv/airing_today/\", headers = header, params = params) \n",
    "    data = response.json() \n",
    "    results=data.get('results')\n",
    "    for i in results:\n",
    "        if i.get('original_language')=='en':\n",
    "            print(i.get('name'))\n",
    "    "
   ]
  }
 ],
 "metadata": {
  "kernelspec": {
   "display_name": "Python 3 (ipykernel)",
   "language": "python",
   "name": "python3"
  },
  "language_info": {
   "codemirror_mode": {
    "name": "ipython",
    "version": 3
   },
   "file_extension": ".py",
   "mimetype": "text/x-python",
   "name": "python",
   "nbconvert_exporter": "python",
   "pygments_lexer": "ipython3",
   "version": "3.9.7"
  }
 },
 "nbformat": 4,
 "nbformat_minor": 5
}
